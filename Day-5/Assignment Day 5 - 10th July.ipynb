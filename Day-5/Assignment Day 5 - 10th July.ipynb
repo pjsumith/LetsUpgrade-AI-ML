{
 "cells": [
  {
   "cell_type": "markdown",
   "metadata": {},
   "source": [
    "Q1.Write a Python program to find the first 20 non-even prime natural numbers."
   ]
  },
  {
   "cell_type": "code",
   "execution_count": 6,
   "metadata": {},
   "outputs": [
    {
     "name": "stdout",
     "output_type": "stream",
     "text": [
      "Prime Number: 3\n",
      "Prime Number: 5\n",
      "Prime Number: 7\n",
      "Prime Number: 11\n",
      "Prime Number: 13\n",
      "Prime Number: 17\n",
      "Prime Number: 19\n",
      "Prime Number: 23\n",
      "Prime Number: 29\n",
      "Prime Number: 31\n",
      "Prime Number: 37\n",
      "Prime Number: 41\n",
      "Prime Number: 43\n",
      "Prime Number: 47\n",
      "Prime Number: 53\n",
      "Prime Number: 59\n",
      "Prime Number: 61\n",
      "Prime Number: 67\n",
      "Prime Number: 71\n",
      "Prime Number: 73\n"
     ]
    }
   ],
   "source": [
    "start = 2\n",
    "end = 100\n",
    "c = 0\n",
    "for num in range(start, end+1):\n",
    "    if num>2:\n",
    "        for i in range(2,num):\n",
    "            if(num%i) ==0:\n",
    "                break\n",
    "        else:\n",
    "            c = c + 1\n",
    "            if (c <= 20):\n",
    "                if (num%2!=0):\n",
    "                    print(\"Prime Number:\", num)"
   ]
  },
  {
   "cell_type": "markdown",
   "metadata": {},
   "source": [
    "Q2.Write a Python program to implement 15 functions of string.\n"
   ]
  },
  {
   "cell_type": "code",
   "execution_count": 22,
   "metadata": {},
   "outputs": [
    {
     "name": "stdout",
     "output_type": "stream",
     "text": [
      "hello , world\n",
      "HELLO , WORLD\n",
      "Hello , world\n",
      "b'Hello , world'\n",
      "2\n",
      "Hello , World\n",
      "hELLO , WORLD\n",
      "3\n",
      "e\n",
      "llo\n",
      "13\n",
      "Hello , world\n",
      "Helld , wdrld\n",
      "['Hello ', ' world']\n",
      "Hello , world\n"
     ]
    }
   ],
   "source": [
    "var = \"Hello , world\"\n",
    "print(var.lower())\n",
    "print(var.upper())\n",
    "print(var.capitalize())\n",
    "print(var.encode())\n",
    "print(var.index(\"l\"))\n",
    "print(var.title())\n",
    "print(var.swapcase())\n",
    "print(var.count(\"l\"))\n",
    "print(var[1])\n",
    "print(var[2:5])\n",
    "print(len(var))\n",
    "print(var.strip())\n",
    "print(var.replace(\"o\",\"d\"))\n",
    "print(var.split(\",\"))\n",
    "print(var.strip())"
   ]
  },
  {
   "cell_type": "code",
   "execution_count": 25,
   "metadata": {},
   "outputs": [
    {
     "data": {
      "text/plain": [
       "'Hieveryone'"
      ]
     },
     "execution_count": 25,
     "metadata": {},
     "output_type": "execute_result"
    }
   ],
   "source": [
    "var1 = \"Hi\"\n",
    "var2 = \"everyone\"\n",
    "var3 = var1 + var2\n",
    "var3"
   ]
  },
  {
   "cell_type": "code",
   "execution_count": 26,
   "metadata": {},
   "outputs": [
    {
     "data": {
      "text/plain": [
       "'Hi everyone'"
      ]
     },
     "execution_count": 26,
     "metadata": {},
     "output_type": "execute_result"
    }
   ],
   "source": [
    "var4 = var1 + \" \" +var2\n",
    "var4"
   ]
  },
  {
   "cell_type": "code",
   "execution_count": 27,
   "metadata": {},
   "outputs": [
    {
     "name": "stdout",
     "output_type": "stream",
     "text": [
      "my name is xyz , and I am 12\n"
     ]
    }
   ],
   "source": [
    "age =12\n",
    "txt = \"my name is xyz , and I am {}\"\n",
    "print(txt.format(age))"
   ]
  },
  {
   "cell_type": "markdown",
   "metadata": {},
   "source": [
    "Q3.Write a Python program to check if the given string is a Palindrome or Anagram or None of them.\n",
    "Display the message accordingly to the user.\n"
   ]
  },
  {
   "cell_type": "code",
   "execution_count": 31,
   "metadata": {},
   "outputs": [
    {
     "name": "stdout",
     "output_type": "stream",
     "text": [
      "Enter the first name : malayalam\n",
      "Enter the another name : malayalam\n",
      "Given Inputs are Palindrome and Anagram\n"
     ]
    }
   ],
   "source": [
    "from collections import Counter\n",
    "def anagram(input1 , input2):\n",
    "    return Counter(input1) == Counter(input2)\n",
    "\n",
    "def pali(input1 , input2):\n",
    "    rev_str = reversed(input1)\n",
    "    if list(rev_str) == list(input2):\n",
    "        return True\n",
    "    else:\n",
    "        return False\n",
    "\n",
    "input1 = input(\"Enter the first name : \")\n",
    "input2 = input(\"Enter the another name : \")\n",
    "if(anagram(input1,input2)):\n",
    "    if(pali(input1,input2)):\n",
    "        print(\"Given Inputs are Palindrome and Anagram\")\n",
    "    else:\n",
    "        print(\"Given Inputs are Anagram\")\n",
    "else:\n",
    "    print(\"Given Inputs are None of them\")"
   ]
  },
  {
   "cell_type": "markdown",
   "metadata": {},
   "source": [
    "Q4.Write a Python's user defined function that removes all the additional characters from the string\n",
    "and converts it finally to lower case using built-in lower(). eg: If the string is \"Dr. Darshan Ingle\n",
    "@AI-ML Trainer\", then the output be \"drdarshaningleaimltrainer\"."
   ]
  },
  {
   "cell_type": "code",
   "execution_count": 39,
   "metadata": {},
   "outputs": [
    {
     "name": "stdout",
     "output_type": "stream",
     "text": [
      "Enter the string..Dr. Darshan Ingle @AI-ML Trainer\n",
      "Original String :  Dr. Darshan Ingle @AI-ML Trainer\n",
      "Result is:  drdarshaningleaimltrainer\n"
     ]
    }
   ],
   "source": [
    "chars = [';', ':', '!','@','#','$','%','^','&','*','-','.',' '] \n",
    "\n",
    "string=input(\"Enter the string..\")\n",
    "print (\"Original String : \",string)  \n",
    "for i in chars : \n",
    "    string = string.replace(i,'') \n",
    "print (\"Result is: \",string.lower())\n"
   ]
  },
  {
   "cell_type": "code",
   "execution_count": null,
   "metadata": {},
   "outputs": [],
   "source": []
  }
 ],
 "metadata": {
  "kernelspec": {
   "display_name": "Python 3",
   "language": "python",
   "name": "python3"
  },
  "language_info": {
   "codemirror_mode": {
    "name": "ipython",
    "version": 3
   },
   "file_extension": ".py",
   "mimetype": "text/x-python",
   "name": "python",
   "nbconvert_exporter": "python",
   "pygments_lexer": "ipython3",
   "version": "3.6.5"
  }
 },
 "nbformat": 4,
 "nbformat_minor": 4
}
