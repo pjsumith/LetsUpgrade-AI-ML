{
 "cells": [
  {
   "cell_type": "markdown",
   "metadata": {},
   "source": [
    "Q1.Research on whether addition, subtraction, multiplication, division, floor division and modulo\n",
    "operations be performed on complex numbers. Based on your study, implement a Python\n",
    "program to demonstrate these operations.\n"
   ]
  },
  {
   "cell_type": "code",
   "execution_count": 10,
   "metadata": {},
   "outputs": [
    {
     "name": "stdout",
     "output_type": "stream",
     "text": [
      "Enter the number :10+5j\n",
      "Enter the number: 4+7j\n",
      "Addition (14+12j)\n",
      "Subtraction (6-2j)\n",
      "Multiplication (5+90j)\n",
      "Division (1.153846153846154-0.7692307692307694j)\n",
      "Modulo (11.180339887498949, 8.06225774829855)\n"
     ]
    }
   ],
   "source": [
    "def sub(a,b):\n",
    "    return a-b\n",
    "def add(a,b):\n",
    "    return a+b\n",
    "def mul(a,b):\n",
    "    return a*b\n",
    "def div(a,b):\n",
    "    return a/b\n",
    "def mod(a,b):\n",
    "    a = abs(a)\n",
    "    b = abs(b)\n",
    "    return a,b\n",
    "num1 = complex(input(\"Enter the number :\"))\n",
    "num2 = complex(input(\"Enter the number: \"))\n",
    "addition = add(num1,num2)\n",
    "print(\"Addition\",addition)\n",
    "\n",
    "subtraction = sub(num1,num2)\n",
    "print(\"Subtraction\",subtraction)\n",
    "\n",
    "multiplication = mul(num1,num2)\n",
    "print(\"Multiplication\",multiplication)\n",
    "\n",
    "division = div(num1,num2)\n",
    "print(\"Division\",division)\n",
    "\n",
    "modulo = mod(num1,num2)\n",
    "print(\"Modulo\",modulo)\n"
   ]
  },
  {
   "cell_type": "markdown",
   "metadata": {},
   "source": [
    "Result or remarks: #floor division is not possible for complex numbers"
   ]
  },
  {
   "cell_type": "markdown",
   "metadata": {},
   "source": [
    "Q2.Research on range() functions and its parameters. Create a markdown cell and write in your own\n",
    "words (no copy-paste from google please) what you understand about it. Implement a small\n",
    "program of your choice on the same."
   ]
  },
  {
   "cell_type": "markdown",
   "metadata": {},
   "source": [
    "Range function:\n",
    "    \n",
    "    1.range function is a function that return a set of value depending on the parameters given.\n",
    "    \n",
    "    2.parameters are start, end and step size.\n",
    "    \n",
    "    3.start is the initaial value where it begins.\n",
    "    \n",
    "    4.stop is the end point and that is not included as being explicit in nature.\n",
    "    \n",
    "    5.step size can be said as the interval between two points/numbers."
   ]
  },
  {
   "cell_type": "markdown",
   "metadata": {},
   "source": [
    "Q3. Consider two numbers. Perform their subtraction and if the result of subtraction is greater than\n",
    "25, print their multiplication result else print their division result."
   ]
  },
  {
   "cell_type": "code",
   "execution_count": 16,
   "metadata": {},
   "outputs": [
    {
     "name": "stdout",
     "output_type": "stream",
     "text": [
      "Enter the first number: 15\n",
      "Enter the second number: 12\n",
      "Result 1.25\n"
     ]
    }
   ],
   "source": [
    "def mult(a,b):\n",
    "    return a*b\n",
    "def divi(a,b):\n",
    "    return a/b\n",
    "\n",
    "var1 = int(input(\"Enter the first number: \"))\n",
    "var2 = int(input(\"Enter the second number: \"))\n",
    "var3 = var1 - var2\n",
    "if var3 > 25:\n",
    "    result = mult(var1,var2)\n",
    "    print(\"Result\", result)\n",
    "else:\n",
    "    result = divi(var1,var2)\n",
    "    print(\"Result\", result)\n",
    "    "
   ]
  },
  {
   "cell_type": "markdown",
   "metadata": {},
   "source": [
    "Q4.Consider a list of 10 elements of integer values. If the number in the list is divisible by 2, print the\n",
    "result as \"square of that number minus 2\"."
   ]
  },
  {
   "cell_type": "code",
   "execution_count": 20,
   "metadata": {},
   "outputs": [
    {
     "name": "stdout",
     "output_type": "stream",
     "text": [
      "48 : 2302\n",
      "76 : 5774\n",
      "26 : 674\n",
      "2 : 2\n",
      "4 : 14\n"
     ]
    }
   ],
   "source": [
    "lst = [1,45,48,76,89,75,26,2,4,91]\n",
    "for i in lst:\n",
    "    if i%2 == 0:\n",
    "        result = (i**2)-2\n",
    "        print(i,\":\",result)"
   ]
  },
  {
   "cell_type": "markdown",
   "metadata": {},
   "source": [
    "Q5.Consider a list of 10 elements. Print all the elements in the list which are greater than 7 when that\n",
    "number is divided 2."
   ]
  },
  {
   "cell_type": "code",
   "execution_count": 23,
   "metadata": {},
   "outputs": [
    {
     "name": "stdout",
     "output_type": "stream",
     "text": [
      "76\n",
      "89\n",
      "75\n",
      "86\n",
      "91\n"
     ]
    }
   ],
   "source": [
    "lst = [1,4,8,76,89,75,86,2,4,91]\n",
    "for i in lst:\n",
    "    if i/2 > 7:\n",
    "        print(i)"
   ]
  },
  {
   "cell_type": "code",
   "execution_count": null,
   "metadata": {},
   "outputs": [],
   "source": []
  }
 ],
 "metadata": {
  "kernelspec": {
   "display_name": "Python 3",
   "language": "python",
   "name": "python3"
  },
  "language_info": {
   "codemirror_mode": {
    "name": "ipython",
    "version": 3
   },
   "file_extension": ".py",
   "mimetype": "text/x-python",
   "name": "python",
   "nbconvert_exporter": "python",
   "pygments_lexer": "ipython3",
   "version": "3.6.5"
  }
 },
 "nbformat": 4,
 "nbformat_minor": 4
}
