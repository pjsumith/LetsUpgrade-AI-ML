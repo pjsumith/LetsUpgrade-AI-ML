{
 "cells": [
  {
   "cell_type": "markdown",
   "metadata": {},
   "source": [
    "Q1.Write a program to subtract two complex numbers in Python. "
   ]
  },
  {
   "cell_type": "code",
   "execution_count": 1,
   "metadata": {},
   "outputs": [
    {
     "name": "stdout",
     "output_type": "stream",
     "text": [
      "Enter the number :10+5j\n",
      "Enter the number: 8+2j\n",
      "(2+3j)\n"
     ]
    }
   ],
   "source": [
    "def sub(a,b):\n",
    "    return a-b\n",
    "\n",
    "a = complex(input(\"Enter the number :\"))\n",
    "b = complex(input(\"Enter the number: \"))\n",
    "c = sub(a,b)\n",
    "print(c)\n"
   ]
  },
  {
   "cell_type": "markdown",
   "metadata": {},
   "source": [
    "Q2.Write a program to find the fourth root of a number. "
   ]
  },
  {
   "cell_type": "code",
   "execution_count": 10,
   "metadata": {},
   "outputs": [
    {
     "name": "stdout",
     "output_type": "stream",
     "text": [
      "Enter the number: 159\n",
      "3.5509886247238938\n"
     ]
    }
   ],
   "source": [
    "import math\n",
    "num = int(input(\"Enter the number: \"))\n",
    "fourthroot = math.sqrt(math.sqrt(num))\n",
    "print(fourthroot)"
   ]
  },
  {
   "cell_type": "markdown",
   "metadata": {},
   "source": [
    "Q3.Write a program to swap two numbers in Python with the help of a temporary variable."
   ]
  },
  {
   "cell_type": "code",
   "execution_count": 8,
   "metadata": {},
   "outputs": [
    {
     "name": "stdout",
     "output_type": "stream",
     "text": [
      "Enter the first number: 10\n",
      "Enter the second number: 20\n",
      "Before Swaping\n",
      " 10 20\n",
      "After Swaping\n",
      " 20 10\n"
     ]
    }
   ],
   "source": [
    "var1 = int(input(\"Enter the first number: \"))\n",
    "var2 = int(input(\"Enter the second number: \"))\n",
    "print(\"Before Swaping\\n\",var1 ,var2)\n",
    "temp = var1\n",
    "var1 = var2\n",
    "var2 = temp\n",
    "print(\"After Swaping\\n\",var1 ,var2)"
   ]
  },
  {
   "cell_type": "markdown",
   "metadata": {},
   "source": [
    "Q4.Write a program to swap two numbers in Python without using a temporary variable."
   ]
  },
  {
   "cell_type": "code",
   "execution_count": 9,
   "metadata": {},
   "outputs": [
    {
     "name": "stdout",
     "output_type": "stream",
     "text": [
      "Enter the first number: 10\n",
      "Enter the second number: 20\n",
      "Before Swaping\n",
      " 10 20\n",
      "After Swaping\n",
      " 20 10\n"
     ]
    }
   ],
   "source": [
    "num1 = int(input(\"Enter the first number: \"))\n",
    "num2 = int(input(\"Enter the second number: \"))\n",
    "print(\"Before Swaping\\n\",num1 ,num2)\n",
    "num1 = num1+num2\n",
    "num2 = num1-num2\n",
    "num1 = num1-num2\n",
    "print(\"After Swaping\\n\",num1 ,num2)"
   ]
  },
  {
   "cell_type": "markdown",
   "metadata": {},
   "source": [
    "Q5.Write a program to convert fahrenheit to kelvin and celsius both"
   ]
  },
  {
   "cell_type": "code",
   "execution_count": 14,
   "metadata": {},
   "outputs": [
    {
     "name": "stdout",
     "output_type": "stream",
     "text": [
      "Enter the fahrenheit: 32\n",
      "Celsius Scale is : 0.0\n",
      "Kelvin Scale is : 273.15\n"
     ]
    }
   ],
   "source": [
    "fah = int(input(\"Enter the fahrenheit: \"))\n",
    "celsius = (5*(fah-32)/9)\n",
    "print(\"Celsius Scale is :\",celsius)\n",
    "kelvin = (fah-32)*(5/9)+273.15\n",
    "print(\"Kelvin Scale is :\", kelvin)"
   ]
  },
  {
   "cell_type": "markdown",
   "metadata": {},
   "source": [
    "Q6.Write a program to demonstrate all the available data types in Python. Hint: Use type() function."
   ]
  },
  {
   "cell_type": "code",
   "execution_count": 18,
   "metadata": {},
   "outputs": [
    {
     "name": "stdout",
     "output_type": "stream",
     "text": [
      "\n",
      "x <class 'int'>\n",
      "\n",
      "y <class 'float'>\n",
      "\n",
      "z <class 'complex'>\n",
      "\n",
      "l <class 'str'>\n",
      "\n",
      "m <class 'list'>\n",
      "\n",
      "n <class 'tuple'>\n",
      "\n",
      "p <class 'dict'>\n",
      "\n",
      "r <class 'bool'>\n"
     ]
    }
   ],
   "source": [
    "x = 15\n",
    "print(\"\\nx\",type(x))\n",
    "\n",
    "y = 15.6\n",
    "print(\"\\ny\",type(y))\n",
    "\n",
    "z =12+6j\n",
    "print(\"\\nz\",type(z))\n",
    "\n",
    "l = \"lu\"\n",
    "print(\"\\nl\",type(l))\n",
    "\n",
    "m= [1,2,\"lu\"]\n",
    "print(\"\\nm\",type(m))\n",
    "\n",
    "n = (3,4,\"ml\")\n",
    "print(\"\\nn\",type(n))\n",
    "\n",
    "p = {\"Name\": \"LU\"}\n",
    "print(\"\\np\",type(p))\n",
    "\n",
    "r = True\n",
    "print(\"\\nr\",type(r))"
   ]
  },
  {
   "cell_type": "markdown",
   "metadata": {},
   "source": [
    "Q7.Create a Markdown cell in jupyter and list the steps discussed in the session by Dr. Darshan\n",
    "Ingle sir to create Github profile and upload Githubs Assignment link."
   ]
  },
  {
   "cell_type": "markdown",
   "metadata": {},
   "source": [
    "1.Create a Github profile and add ua basic details.\n",
    "\n",
    "2.Create a Github public repository and name it \"LetsUpgrade AI/ML\"\n",
    "\n",
    "3.Upload the files/solution in the repository according to day wise.\n",
    "\n",
    "4.Copy the URL of the Folder of perticular day, paste and submit in the Assignment Submission Form (Google Form)\n",
    "\n",
    "5.Also filling correct details in the Assignment Submission Form.\n",
    "\n",
    "6.submit the form \n",
    "\n",
    "Thus we submit the form succesfully!.."
   ]
  },
  {
   "cell_type": "code",
   "execution_count": null,
   "metadata": {},
   "outputs": [],
   "source": []
  }
 ],
 "metadata": {
  "kernelspec": {
   "display_name": "Python 3",
   "language": "python",
   "name": "python3"
  },
  "language_info": {
   "codemirror_mode": {
    "name": "ipython",
    "version": 3
   },
   "file_extension": ".py",
   "mimetype": "text/x-python",
   "name": "python",
   "nbconvert_exporter": "python",
   "pygments_lexer": "ipython3",
   "version": "3.6.5"
  }
 },
 "nbformat": 4,
 "nbformat_minor": 4
}
