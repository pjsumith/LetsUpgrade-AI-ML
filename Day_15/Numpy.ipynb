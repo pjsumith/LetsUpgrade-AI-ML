{
 "cells": [
  {
   "cell_type": "markdown",
   "metadata": {},
   "source": [
    "# 1. Create a 3x3x3 array with random values"
   ]
  },
  {
   "cell_type": "code",
   "execution_count": 1,
   "metadata": {},
   "outputs": [
    {
     "data": {
      "text/plain": [
       "array([[[0.18959299, 0.75788601, 0.05019714],\n",
       "        [0.37456819, 0.190115  , 0.58352723],\n",
       "        [0.33854603, 0.02392963, 0.9759976 ]],\n",
       "\n",
       "       [[0.16474672, 0.96154518, 0.22629001],\n",
       "        [0.37128854, 0.66899953, 0.74187744],\n",
       "        [0.14423583, 0.34781634, 0.94529512]],\n",
       "\n",
       "       [[0.7573784 , 0.25271428, 0.34394905],\n",
       "        [0.12608432, 0.09137187, 0.60016455],\n",
       "        [0.74372377, 0.4404343 , 0.41784642]]])"
      ]
     },
     "execution_count": 1,
     "metadata": {},
     "output_type": "execute_result"
    }
   ],
   "source": [
    "import numpy as np\n",
    "np.random.random((3,3,3))"
   ]
  },
  {
   "cell_type": "markdown",
   "metadata": {},
   "source": [
    "# 2.Create a 5x5 matrix with values 1,2,3,4 just below the diagonal"
   ]
  },
  {
   "cell_type": "code",
   "execution_count": 2,
   "metadata": {},
   "outputs": [
    {
     "data": {
      "text/plain": [
       "array([[0, 0, 0, 0, 0],\n",
       "       [1, 0, 0, 0, 0],\n",
       "       [0, 2, 0, 0, 0],\n",
       "       [0, 0, 3, 0, 0],\n",
       "       [0, 0, 0, 4, 0]])"
      ]
     },
     "execution_count": 2,
     "metadata": {},
     "output_type": "execute_result"
    }
   ],
   "source": [
    "arr=np.diag([1,2,3,4], -1)\n",
    "arr"
   ]
  },
  {
   "cell_type": "markdown",
   "metadata": {},
   "source": [
    "# 3.Create a 8x8 matrix and fill it with a checkerboard pattern"
   ]
  },
  {
   "cell_type": "code",
   "execution_count": 3,
   "metadata": {},
   "outputs": [
    {
     "name": "stdout",
     "output_type": "stream",
     "text": [
      "[[0. 1. 0. 1. 0. 1. 0. 1.]\n",
      " [1. 0. 1. 0. 1. 0. 1. 0.]\n",
      " [0. 1. 0. 1. 0. 1. 0. 1.]\n",
      " [1. 0. 1. 0. 1. 0. 1. 0.]\n",
      " [0. 1. 0. 1. 0. 1. 0. 1.]\n",
      " [1. 0. 1. 0. 1. 0. 1. 0.]\n",
      " [0. 1. 0. 1. 0. 1. 0. 1.]\n",
      " [1. 0. 1. 0. 1. 0. 1. 0.]]\n"
     ]
    }
   ],
   "source": [
    "arr=np.zeros((8,8))\n",
    "arr[1::2,::2] = 1\n",
    "arr[::2,1::2] = 1\n",
    "print(arr)"
   ]
  },
  {
   "cell_type": "markdown",
   "metadata": {},
   "source": [
    "# 4. Normalize a 5x5 random matrix"
   ]
  },
  {
   "cell_type": "code",
   "execution_count": 4,
   "metadata": {},
   "outputs": [
    {
     "name": "stdout",
     "output_type": "stream",
     "text": [
      "[[0.36648683 0.27880938 0.85177538 0.94453992 1.        ]\n",
      " [0.         0.29389461 0.48267674 0.11862264 0.44513003]\n",
      " [0.81130672 0.56059538 0.56754744 0.22010119 0.47405522]\n",
      " [0.91877722 0.40664251 0.54519506 0.40910995 0.80265524]\n",
      " [0.56377324 0.15299205 0.72533173 0.03714005 0.33185563]]\n"
     ]
    }
   ],
   "source": [
    "arr = np.random.random((5,5))\n",
    "armax, armin = arr.max(), arr.min()\n",
    "arr = (arr - armin)/(armax - armin)\n",
    "print(arr)"
   ]
  },
  {
   "cell_type": "markdown",
   "metadata": {},
   "source": [
    "# 5. How to find common values between two arrays?"
   ]
  },
  {
   "cell_type": "code",
   "execution_count": 6,
   "metadata": {},
   "outputs": [
    {
     "name": "stdout",
     "output_type": "stream",
     "text": [
      "Array1: [11  1 14  3 14 11 12  0  6  2  2  6  2  9  7]\n",
      "Array2: [ 6  5 12  9  5 13  9  4 13 14  0  4  0  3 11]\n",
      "[ 0  3  6  9 11 12 14]\n"
     ]
    }
   ],
   "source": [
    "ar1 = np.random.randint(0,15,15)\n",
    "print(\"Array1:\",ar1)\n",
    "ar2 = np.random.randint(0,15,15)\n",
    "print(\"Array2:\",ar2)\n",
    "print(np.intersect1d(ar1,ar2))"
   ]
  },
  {
   "cell_type": "markdown",
   "metadata": {},
   "source": [
    "# 6.How to get the dates of yesterday, today and tomorrow?"
   ]
  },
  {
   "cell_type": "code",
   "execution_count": 8,
   "metadata": {},
   "outputs": [
    {
     "name": "stdout",
     "output_type": "stream",
     "text": [
      "2020-08-22 2020-08-23 2020-08-24\n"
     ]
    }
   ],
   "source": [
    "today = np.datetime64('today')\n",
    "yesterday = today - np.timedelta64(1)\n",
    "tomorrow = today + np.timedelta64(1)\n",
    "print(yesterday,today,tomorrow)"
   ]
  },
  {
   "cell_type": "markdown",
   "metadata": {},
   "source": [
    "# 7. Consider two random array A and B, check if they are equal"
   ]
  },
  {
   "cell_type": "code",
   "execution_count": 9,
   "metadata": {},
   "outputs": [
    {
     "name": "stdout",
     "output_type": "stream",
     "text": [
      "Array1: [ 6 12  6  4  6  3  3 10 13  8 14  7  1  4  0]\n",
      "Array2: [ 3  2  6  0 10  5  0 13  0  4  5  3  4  0  1]\n"
     ]
    },
    {
     "data": {
      "text/plain": [
       "False"
      ]
     },
     "execution_count": 9,
     "metadata": {},
     "output_type": "execute_result"
    }
   ],
   "source": [
    "ar1 = np.random.randint(0,15,15)\n",
    "ar2 = np.random.randint(0,15,15)\n",
    "print(\"Array1:\",ar1)\n",
    "print(\"Array2:\",ar2)\n",
    "equal = np.allclose(ar1,ar2)\n",
    "equal"
   ]
  },
  {
   "cell_type": "markdown",
   "metadata": {},
   "source": [
    "# 8.Create random vector of size 10 and replace the maximum value by 0"
   ]
  },
  {
   "cell_type": "code",
   "execution_count": 10,
   "metadata": {},
   "outputs": [
    {
     "data": {
      "text/plain": [
       "array([0.80894945, 0.30995702, 0.4806604 , 0.73469294, 0.        ,\n",
       "       0.73897212, 0.46932   , 0.71782111, 0.18521087, 0.0217258 ])"
      ]
     },
     "execution_count": 10,
     "metadata": {},
     "output_type": "execute_result"
    }
   ],
   "source": [
    "v = np.random.random((10))\n",
    "v[v.argmax()] = 0\n",
    "v"
   ]
  },
  {
   "cell_type": "markdown",
   "metadata": {},
   "source": [
    "# 9. How to print all the values of an array?"
   ]
  },
  {
   "cell_type": "code",
   "execution_count": 11,
   "metadata": {},
   "outputs": [
    {
     "data": {
      "text/plain": [
       "array([[0.61075236, 0.72925992, 0.86388523, 0.0060173 , 0.88069999],\n",
       "       [0.71466223, 0.34447443, 0.0442689 , 0.26162074, 0.39696162],\n",
       "       [0.6297415 , 0.6140662 , 0.10941286, 0.27142673, 0.43180663],\n",
       "       [0.41944691, 0.07877004, 0.28405295, 0.28852377, 0.77328444],\n",
       "       [0.15532664, 0.87421553, 0.41997102, 0.38013934, 0.06918063]])"
      ]
     },
     "execution_count": 11,
     "metadata": {},
     "output_type": "execute_result"
    }
   ],
   "source": [
    "np.random.random((5,5))"
   ]
  },
  {
   "cell_type": "markdown",
   "metadata": {},
   "source": [
    "# 10.Subtract the mean of each row of a matrix"
   ]
  },
  {
   "cell_type": "code",
   "execution_count": 12,
   "metadata": {},
   "outputs": [
    {
     "name": "stdout",
     "output_type": "stream",
     "text": [
      "[[-0.44455804 -0.26243679 -0.07832709  0.0732521   0.1890166 ]\n",
      " [-0.13453772 -0.1730567  -0.495416    0.39729417  0.365337  ]\n",
      " [ 0.09633898 -0.28813768  0.03778717  0.02702652 -0.29209947]\n",
      " [ 0.484923    0.35767094  0.13718663 -0.36578526 -0.21792986]\n",
      " [ 0.24970668  0.3066311   0.11055581  0.02168335 -0.10212543]]\n"
     ]
    }
   ],
   "source": [
    "ar = np.random.random((5,5))\n",
    "output = ar-ar.mean()\n",
    "print(output)"
   ]
  },
  {
   "cell_type": "markdown",
   "metadata": {},
   "source": [
    "# 11.Consider a given vector, how to add 1 to each element indexed by a second vector (be careful with repeated indices)?"
   ]
  },
  {
   "cell_type": "code",
   "execution_count": 14,
   "metadata": {},
   "outputs": [
    {
     "name": "stdout",
     "output_type": "stream",
     "text": [
      "Given vector: [2 3 2 6 2 5 7 5 4 9]\n",
      "Indexing vector: [0 0 0 0 1 1 1 3 4 5]\n",
      "Result: [3 4 2 7 3 6 7 5 4 9]\n"
     ]
    }
   ],
   "source": [
    "v = np.random.randint(1,10,10)\n",
    "print(\"Given vector:\", v)\n",
    "b = np.random.randint(v)\n",
    "c = []\n",
    "b.sort()\n",
    "for i in b:\n",
    "    if i not in c:\n",
    "        c.append(i)\n",
    "\n",
    "for j in c:\n",
    "    v[j] += 1\n",
    "\n",
    "print(\"Indexing vector:\", b)\n",
    "print(\"Result:\",v)"
   ]
  },
  {
   "cell_type": "markdown",
   "metadata": {},
   "source": [
    "# 12.How to get the diagonal of a dot product?\""
   ]
  },
  {
   "cell_type": "code",
   "execution_count": 15,
   "metadata": {},
   "outputs": [
    {
     "data": {
      "text/plain": [
       "array([1.36536418, 1.3459638 , 1.31411346, 1.86860273, 1.41270186])"
      ]
     },
     "execution_count": 15,
     "metadata": {},
     "output_type": "execute_result"
    }
   ],
   "source": [
    "A = np.random.random((5,5))\n",
    "B = np.random.random((5,5))\n",
    "np.diag(np.dot(A, B))"
   ]
  },
  {
   "cell_type": "markdown",
   "metadata": {},
   "source": [
    "# 13.How to find the most frequent value in an array?"
   ]
  },
  {
   "cell_type": "code",
   "execution_count": 17,
   "metadata": {},
   "outputs": [
    {
     "name": "stdout",
     "output_type": "stream",
     "text": [
      "6\n"
     ]
    }
   ],
   "source": [
    "z = np.random.randint(0,50,20)\n",
    "print(np.bincount(z).argmax())"
   ]
  },
  {
   "cell_type": "markdown",
   "metadata": {},
   "source": [
    "# 14.How to get the n largest values of an array"
   ]
  },
  {
   "cell_type": "code",
   "execution_count": 18,
   "metadata": {},
   "outputs": [
    {
     "name": "stdout",
     "output_type": "stream",
     "text": [
      "[9990 9991 9992 9993 9994 9995 9996 9997 9998 9999]\n"
     ]
    }
   ],
   "source": [
    "Z = np.arange(10000)\n",
    "n = 10\n",
    "print (Z[np.argsort(Z)[-n:]])"
   ]
  },
  {
   "cell_type": "markdown",
   "metadata": {},
   "source": [
    "# 15.How to create a record array from a regular array?"
   ]
  },
  {
   "cell_type": "code",
   "execution_count": 27,
   "metadata": {},
   "outputs": [
    {
     "name": "stdout",
     "output_type": "stream",
     "text": [
      "('Animals', 'color')\n",
      "('Dog', 'Red')\n",
      "('Cat', 'Green')\n",
      "('Rat', 'Orange')\n",
      "('Tiger', 'Yellow')\n"
     ]
    }
   ],
   "source": [
    "arr1=np.array(['Animals','Dog','Cat','Rat','Tiger'])\n",
    "arr2=np.array(['color','Red','Green','Orange','Yellow'])\n",
    "result= np.core.records.fromarrays([arr1, arr2])\n",
    "for i in range(5):\n",
    "    print(result[i])"
   ]
  },
  {
   "cell_type": "code",
   "execution_count": null,
   "metadata": {},
   "outputs": [],
   "source": []
  }
 ],
 "metadata": {
  "kernelspec": {
   "display_name": "Python 3",
   "language": "python",
   "name": "python3"
  },
  "language_info": {
   "codemirror_mode": {
    "name": "ipython",
    "version": 3
   },
   "file_extension": ".py",
   "mimetype": "text/x-python",
   "name": "python",
   "nbconvert_exporter": "python",
   "pygments_lexer": "ipython3",
   "version": "3.6.5"
  }
 },
 "nbformat": 4,
 "nbformat_minor": 2
}
